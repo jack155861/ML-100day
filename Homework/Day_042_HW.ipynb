{
 "cells": [
  {
   "cell_type": "markdown",
   "metadata": {},
   "source": [
    "## 作業\n",
    "\n",
    "1. 試著調整 DecisionTreeClassifier(...) 中的參數，並觀察是否會改變結果？\n",
    "2. 改用其他資料集 (boston, wine)，並與回歸模型的結果進行比較"
   ]
  },
  {
   "cell_type": "code",
   "execution_count": 197,
   "metadata": {},
   "outputs": [],
   "source": [
    "from sklearn import datasets, metrics\n",
    "# 如果是分類問題，請使用 DecisionTreeClassifier，若為回歸問題，請使用 DecisionTreeRegressor\n",
    "from sklearn.tree import DecisionTreeClassifier, DecisionTreeRegressor\n",
    "from sklearn.model_selection import train_test_split\n",
    "def tree_fn(data,DecisionTree,criterion,min_samples_split,min_samples_leaf):   \n",
    "    # 讀取資料集\n",
    "    tmp = data\n",
    "    # 切分訓練集/測試集\n",
    "    x_train, x_test, y_train, y_test = train_test_split(tmp.data, tmp.target, test_size=0.25, random_state=4)\n",
    "    # 建立模型\n",
    "    if DecisionTree == \"Classifier\":\n",
    "        clf = DecisionTreeClassifier(criterion=criterion,max_depth=None,\n",
    "                                     min_samples_split=min_samples_split,\n",
    "                                     min_samples_leaf=min_samples_leaf)\n",
    "    else :\n",
    "        clf = DecisionTreeRegressor(criterion=criterion,max_depth=None,\n",
    "                                    min_samples_split=min_samples_split,\n",
    "                                    min_samples_leaf=min_samples_leaf)    \n",
    "    # 訓練模型\n",
    "    clf.fit(x_train, y_train)\n",
    "    # 預測測試集\n",
    "    y_pred = clf.predict(x_test)\n",
    "\n",
    "    if DecisionTree == \"Classifier\":\n",
    "        acc = metrics.accuracy_score(y_test, y_pred)\n",
    "        print(\"Acuuracy: \", acc)\n",
    "    mse = metrics.mean_squared_error(y_test, y_pred)\n",
    "    print(\"Mean squared error: \", mse)    \n",
    "    print(\"Feature names: \", tmp.feature_names)\n",
    "    print(\"Feature importance: \", clf.feature_importances_)"
   ]
  },
  {
   "cell_type": "code",
   "execution_count": 198,
   "metadata": {},
   "outputs": [
    {
     "name": "stdout",
     "output_type": "stream",
     "text": [
      "Acuuracy:  0.9736842105263158\n",
      "Mean squared error:  0.02631578947368421\n",
      "Feature names:  ['sepal length (cm)', 'sepal width (cm)', 'petal length (cm)', 'petal width (cm)']\n",
      "Feature importance:  [0.01796599 0.         0.52229134 0.45974266]\n"
     ]
    }
   ],
   "source": [
    "tree_fn(datasets.load_iris(),\"Classifier\",'gini',2,1)"
   ]
  },
  {
   "cell_type": "code",
   "execution_count": 199,
   "metadata": {},
   "outputs": [
    {
     "name": "stdout",
     "output_type": "stream",
     "text": [
      "Acuuracy:  0.9736842105263158\n",
      "Mean squared error:  0.02631578947368421\n",
      "Feature names:  ['sepal length (cm)', 'sepal width (cm)', 'petal length (cm)', 'petal width (cm)']\n",
      "Feature importance:  [0.0135153 0.        0.5507382 0.4357465]\n"
     ]
    }
   ],
   "source": [
    "tree_fn(datasets.load_iris(),\"Classifier\",'gini',5,2)"
   ]
  },
  {
   "cell_type": "code",
   "execution_count": 200,
   "metadata": {},
   "outputs": [
    {
     "name": "stdout",
     "output_type": "stream",
     "text": [
      "Acuuracy:  0.9736842105263158\n",
      "Mean squared error:  0.02631578947368421\n",
      "Feature names:  ['sepal length (cm)', 'sepal width (cm)', 'petal length (cm)', 'petal width (cm)']\n",
      "Feature importance:  [0.0283786  0.         0.07857828 0.89304312]\n"
     ]
    }
   ],
   "source": [
    "tree_fn(datasets.load_iris(),\"Classifier\",'entropy',5,2)"
   ]
  },
  {
   "cell_type": "code",
   "execution_count": 201,
   "metadata": {},
   "outputs": [
    {
     "name": "stdout",
     "output_type": "stream",
     "text": [
      "Acuuracy:  0.9111111111111111\n",
      "Mean squared error:  0.2222222222222222\n",
      "Feature names:  ['alcohol', 'malic_acid', 'ash', 'alcalinity_of_ash', 'magnesium', 'total_phenols', 'flavanoids', 'nonflavanoid_phenols', 'proanthocyanins', 'color_intensity', 'hue', 'od280/od315_of_diluted_wines', 'proline']\n",
      "Feature importance:  [0.01364138 0.03076567 0.         0.         0.         0.08158611\n",
      " 0.         0.         0.         0.39953541 0.         0.08582143\n",
      " 0.38865   ]\n"
     ]
    }
   ],
   "source": [
    "tree_fn(datasets.load_wine(),\"Classifier\",'gini',2,1)"
   ]
  },
  {
   "cell_type": "code",
   "execution_count": 202,
   "metadata": {},
   "outputs": [
    {
     "name": "stdout",
     "output_type": "stream",
     "text": [
      "Acuuracy:  0.9111111111111111\n",
      "Mean squared error:  0.08888888888888889\n",
      "Feature names:  ['alcohol', 'malic_acid', 'ash', 'alcalinity_of_ash', 'magnesium', 'total_phenols', 'flavanoids', 'nonflavanoid_phenols', 'proanthocyanins', 'color_intensity', 'hue', 'od280/od315_of_diluted_wines', 'proline']\n",
      "Feature importance:  [0.01479104 0.         0.         0.         0.         0.\n",
      " 0.01672031 0.         0.         0.39748858 0.02998124 0.11857744\n",
      " 0.4224414 ]\n"
     ]
    }
   ],
   "source": [
    "tree_fn(datasets.load_wine(),\"Classifier\",'gini',5,3)"
   ]
  },
  {
   "cell_type": "code",
   "execution_count": 203,
   "metadata": {
    "scrolled": true
   },
   "outputs": [
    {
     "name": "stdout",
     "output_type": "stream",
     "text": [
      "Acuuracy:  0.9777777777777777\n",
      "Mean squared error:  0.022222222222222223\n",
      "Feature names:  ['alcohol', 'malic_acid', 'ash', 'alcalinity_of_ash', 'magnesium', 'total_phenols', 'flavanoids', 'nonflavanoid_phenols', 'proanthocyanins', 'color_intensity', 'hue', 'od280/od315_of_diluted_wines', 'proline']\n",
      "Feature importance:  [0.01823358 0.         0.         0.         0.         0.\n",
      " 0.42020182 0.         0.         0.22239537 0.         0.\n",
      " 0.33916922]\n"
     ]
    }
   ],
   "source": [
    "tree_fn(datasets.load_wine(),\"Classifier\",'entropy',5,3)"
   ]
  },
  {
   "cell_type": "code",
   "execution_count": 204,
   "metadata": {},
   "outputs": [
    {
     "name": "stdout",
     "output_type": "stream",
     "text": [
      "Mean squared error:  25.579685039370077\n",
      "Feature names:  ['CRIM' 'ZN' 'INDUS' 'CHAS' 'NOX' 'RM' 'AGE' 'DIS' 'RAD' 'TAX' 'PTRATIO'\n",
      " 'B' 'LSTAT']\n",
      "Feature importance:  [6.48388952e-02 1.22526401e-03 1.63658172e-03 2.68523850e-04\n",
      " 3.63976990e-02 5.41161375e-01 1.34059688e-02 6.95074590e-02\n",
      " 8.98990747e-04 1.19797702e-02 2.44793927e-02 1.04686881e-02\n",
      " 2.23731392e-01]\n"
     ]
    }
   ],
   "source": [
    "tree_fn(datasets.load_boston(),\"Regressor\",'mse',2,1)"
   ]
  },
  {
   "cell_type": "code",
   "execution_count": 205,
   "metadata": {},
   "outputs": [
    {
     "name": "stdout",
     "output_type": "stream",
     "text": [
      "Mean squared error:  21.9555891951006\n",
      "Feature names:  ['CRIM' 'ZN' 'INDUS' 'CHAS' 'NOX' 'RM' 'AGE' 'DIS' 'RAD' 'TAX' 'PTRATIO'\n",
      " 'B' 'LSTAT']\n",
      "Feature importance:  [4.87758637e-02 0.00000000e+00 5.17856360e-03 0.00000000e+00\n",
      " 1.10822788e-02 5.71962347e-01 1.81336061e-02 4.81743378e-02\n",
      " 3.98062380e-04 9.49465160e-03 3.12135835e-02 8.38561408e-03\n",
      " 2.47201091e-01]\n"
     ]
    }
   ],
   "source": [
    "tree_fn(datasets.load_boston(),\"Regressor\",'mse',5,3)"
   ]
  },
  {
   "cell_type": "code",
   "execution_count": 206,
   "metadata": {},
   "outputs": [
    {
     "name": "stdout",
     "output_type": "stream",
     "text": [
      "Mean squared error:  25.804963910761153\n",
      "Feature names:  ['CRIM' 'ZN' 'INDUS' 'CHAS' 'NOX' 'RM' 'AGE' 'DIS' 'RAD' 'TAX' 'PTRATIO'\n",
      " 'B' 'LSTAT']\n",
      "Feature importance:  [6.67277421e-02 8.31497088e-04 1.53174783e-03 2.66561977e-04\n",
      " 3.09441964e-02 5.47535291e-01 9.66049464e-03 6.96893311e-02\n",
      " 3.69132268e-04 1.31227002e-02 2.51616394e-02 8.10571531e-03\n",
      " 2.26053951e-01]\n"
     ]
    }
   ],
   "source": [
    "tree_fn(datasets.load_boston(),\"Regressor\",'mse',5,1)"
   ]
  }
 ],
 "metadata": {
  "kernelspec": {
   "display_name": "Python 3",
   "language": "python",
   "name": "python3"
  },
  "language_info": {
   "codemirror_mode": {
    "name": "ipython",
    "version": 3
   },
   "file_extension": ".py",
   "mimetype": "text/x-python",
   "name": "python",
   "nbconvert_exporter": "python",
   "pygments_lexer": "ipython3",
   "version": "3.6.4"
  }
 },
 "nbformat": 4,
 "nbformat_minor": 2
}
