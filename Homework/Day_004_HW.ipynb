{
 "cells": [
  {
   "cell_type": "code",
   "execution_count": 2,
   "metadata": {
    "colab": {},
    "colab_type": "code",
    "id": "lh9gyloHVblR"
   },
   "outputs": [],
   "source": [
    "import os\n",
    "import numpy as np\n",
    "import pandas as pd"
   ]
  },
  {
   "cell_type": "markdown",
   "metadata": {
    "colab": {},
    "colab_type": "code",
    "collapsed": true,
    "id": "d5IeEcPVVblq"
   },
   "source": [
    "## 作業\n",
    "將下列部分資料片段 sub_train 使用 One Hot encoding, 並觀察轉換前後的欄位數量 (使用 shape) 與欄位名稱 (使用 head) 變化"
   ]
  },
  {
   "cell_type": "code",
   "execution_count": 4,
   "metadata": {},
   "outputs": [
    {
     "name": "stdout",
     "output_type": "stream",
     "text": [
      "  WEEKDAY_APPR_PROCESS_START\n",
      "0                  WEDNESDAY\n",
      "1                     MONDAY\n",
      "2                     MONDAY\n",
      "3                  WEDNESDAY\n",
      "4                   THURSDAY\n",
      "(307511, 1)\n",
      "   WEEKDAY_APPR_PROCESS_START_FRIDAY  WEEKDAY_APPR_PROCESS_START_MONDAY  \\\n",
      "0                                  0                                  0   \n",
      "1                                  0                                  1   \n",
      "2                                  0                                  1   \n",
      "3                                  0                                  0   \n",
      "4                                  0                                  0   \n",
      "\n",
      "   WEEKDAY_APPR_PROCESS_START_SATURDAY  WEEKDAY_APPR_PROCESS_START_SUNDAY  \\\n",
      "0                                    0                                  0   \n",
      "1                                    0                                  0   \n",
      "2                                    0                                  0   \n",
      "3                                    0                                  0   \n",
      "4                                    0                                  0   \n",
      "\n",
      "   WEEKDAY_APPR_PROCESS_START_THURSDAY  WEEKDAY_APPR_PROCESS_START_TUESDAY  \\\n",
      "0                                    0                                   0   \n",
      "1                                    0                                   0   \n",
      "2                                    0                                   0   \n",
      "3                                    0                                   0   \n",
      "4                                    1                                   0   \n",
      "\n",
      "   WEEKDAY_APPR_PROCESS_START_WEDNESDAY  \n",
      "0                                     1  \n",
      "1                                     0  \n",
      "2                                     0  \n",
      "3                                     1  \n",
      "4                                     0  \n",
      "(307511, 7)\n"
     ]
    }
   ],
   "source": [
    "dir_data = './data/'\n",
    "f_app_train = os.path.join(dir_data, 'application_train.csv')\n",
    "app_train = pd.read_csv(f_app_train)\n",
    "app_train = pd.DataFrame(app_train['WEEKDAY_APPR_PROCESS_START'])\n",
    "print(app_train.head())\n",
    "print(app_train.shape)\n",
    "sub_train = pd.get_dummies(app_train)\n",
    "print(sub_train.head())\n",
    "print(sub_train.shape)\n",
    "#原來一個欄位變為七個欄位　　星期一到日變為０　１　的變數　"
   ]
  }
 ],
 "metadata": {
  "colab": {
   "name": "Day_004_column_data_type.ipynb",
   "provenance": [],
   "version": "0.3.2"
  },
  "kernelspec": {
   "display_name": "Python 3",
   "language": "python",
   "name": "python3"
  },
  "language_info": {
   "codemirror_mode": {
    "name": "ipython",
    "version": 3
   },
   "file_extension": ".py",
   "mimetype": "text/x-python",
   "name": "python",
   "nbconvert_exporter": "python",
   "pygments_lexer": "ipython3",
   "version": "3.6.4"
  }
 },
 "nbformat": 4,
 "nbformat_minor": 1
}
