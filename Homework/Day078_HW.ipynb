{
 "cells": [
  {
   "cell_type": "markdown",
   "metadata": {},
   "source": [
    "## Work\n",
    "1. 請嘗試將 preproc_x 替換成以每筆資料的 min/max 進行標準化至 -1 ~ 1 間，再進行訓練\n",
    "2. 請嘗試將 mlp 疊更深 (e.g 5~10 層)，進行訓練後觀察 learning curve 的走勢\n",
    "3. (optional) 請改用 GPU 進行訓練 (如果你有 GPU 的話)，比較使用 CPU 與 GPU 的訓練速度"
   ]
  },
  {
   "cell_type": "code",
   "execution_count": 1,
   "metadata": {},
   "outputs": [],
   "source": [
    "## 確認硬體資源\n",
    "\"\"\"\n",
    "Your code here\n",
    "\"\"\"\n"
   ]
  },
  {
   "cell_type": "code",
   "execution_count": 1,
   "metadata": {},
   "outputs": [
    {
     "name": "stderr",
     "output_type": "stream",
     "text": [
      "C:\\Users\\K258\\AppData\\Local\\Continuum\\anaconda3\\lib\\site-packages\\h5py\\__init__.py:36: FutureWarning: Conversion of the second argument of issubdtype from `float` to `np.floating` is deprecated. In future, it will be treated as `np.float64 == np.dtype(float).type`.\n",
      "  from ._conv import register_converters as _register_converters\n",
      "Using TensorFlow backend.\n"
     ]
    }
   ],
   "source": [
    "import os\n",
    "import keras\n",
    "\n",
    "# Try to enable GPU (optional)\n"
   ]
  },
  {
   "cell_type": "code",
   "execution_count": 2,
   "metadata": {},
   "outputs": [],
   "source": [
    "train, test = keras.datasets.cifar10.load_data()"
   ]
  },
  {
   "cell_type": "code",
   "execution_count": 3,
   "metadata": {},
   "outputs": [],
   "source": [
    "## 資料前處理\n",
    "\"\"\"\n",
    "Your code here\n",
    "\"\"\"\n",
    "def preproc_x(x, flatten=True):\n",
    "    x = 2*(((x - x.min()) / (x.max() - x.min()))-0.5)\n",
    "    if flatten:\n",
    "        x = x.reshape((len(x), -1))\n",
    "    return x\n",
    "\n",
    "def preproc_y(y, num_classes=10):\n",
    "    if y.shape[-1] == 1:\n",
    "        y = keras.utils.to_categorical(y, num_classes)\n",
    "    return y "
   ]
  },
  {
   "cell_type": "code",
   "execution_count": 4,
   "metadata": {},
   "outputs": [],
   "source": [
    "x_train, y_train = train\n",
    "x_test, y_test = test\n",
    "\n",
    "# Preproc the inputs\n",
    "x_train = preproc_x(x_train)\n",
    "x_test = preproc_x(x_test)\n",
    "\n",
    "# Preprc the outputs\n",
    "y_train = preproc_y(y_train)\n",
    "y_test = preproc_y(y_test)"
   ]
  },
  {
   "cell_type": "code",
   "execution_count": 8,
   "metadata": {
    "collapsed": true
   },
   "outputs": [
    {
     "name": "stdout",
     "output_type": "stream",
     "text": [
      "_________________________________________________________________\n",
      "Layer (type)                 Output Shape              Param #   \n",
      "=================================================================\n",
      "input_1 (InputLayer)         (None, 3072)              0         \n",
      "_________________________________________________________________\n",
      "hidden_layer1 (Dense)        (None, 512)               1573376   \n",
      "_________________________________________________________________\n",
      "hidden_layer2 (Dense)        (None, 256)               131328    \n",
      "_________________________________________________________________\n",
      "hidden_layer3 (Dense)        (None, 128)               32896     \n",
      "_________________________________________________________________\n",
      "hidden_layer4 (Dense)        (None, 128)               16512     \n",
      "_________________________________________________________________\n",
      "hidden_layer5 (Dense)        (None, 128)               16512     \n",
      "_________________________________________________________________\n",
      "output (Dense)               (None, 10)                1290      \n",
      "=================================================================\n",
      "Total params: 1,771,914\n",
      "Trainable params: 1,771,914\n",
      "Non-trainable params: 0\n",
      "_________________________________________________________________\n"
     ]
    }
   ],
   "source": [
    "\"\"\"\n",
    "Your code here\n",
    "\"\"\"\n",
    "def build_mlp(input_shape, output_units=10, num_neurons=[512, 256, 128, 128, 128]):\n",
    "    input_layer = keras.layers.Input(input_shape)\n",
    "    \n",
    "    for i, n_units in enumerate(num_neurons):\n",
    "        if i == 0:\n",
    "            x = keras.layers.Dense(units=n_units, activation=\"relu\", name=\"hidden_layer\"+str(i+1))(input_layer)\n",
    "        else:\n",
    "            x = keras.layers.Dense(units=n_units, activation=\"relu\", name=\"hidden_layer\"+str(i+1))(x)\n",
    "    \n",
    "    out = keras.layers.Dense(units=output_units, activation=\"softmax\", name=\"output\")(x)\n",
    "    \n",
    "    model = keras.models.Model(inputs=[input_layer], outputs=[out])\n",
    "    return model\n",
    "model = build_mlp(input_shape=x_train.shape[1:])\n",
    "model.summary()"
   ]
  },
  {
   "cell_type": "code",
   "execution_count": 9,
   "metadata": {},
   "outputs": [],
   "source": [
    "## 超參數設定\n",
    "LEARNING_RATE = 0.001\n",
    "EPOCHS = 100\n",
    "BATCH_SIZE = 256"
   ]
  },
  {
   "cell_type": "code",
   "execution_count": 10,
   "metadata": {},
   "outputs": [],
   "source": [
    "optimizer = keras.optimizers.Adam(lr=LEARNING_RATE)\n",
    "model.compile(loss=\"categorical_crossentropy\", metrics=[\"accuracy\"], optimizer=optimizer)"
   ]
  },
  {
   "cell_type": "code",
   "execution_count": 11,
   "metadata": {},
   "outputs": [
    {
     "name": "stdout",
     "output_type": "stream",
     "text": [
      "Train on 50000 samples, validate on 10000 samples\n",
      "Epoch 1/100\n",
      "50000/50000 [==============================] - 41s 824us/step - loss: 1.6879 - acc: 0.3999 - val_loss: 1.5329 - val_acc: 0.4512\n",
      "Epoch 2/100\n",
      "50000/50000 [==============================] - 24s 481us/step - loss: 1.4603 - acc: 0.4830 - val_loss: 1.4592 - val_acc: 0.4851\n",
      "Epoch 3/100\n",
      "50000/50000 [==============================] - 23s 463us/step - loss: 1.3494 - acc: 0.5228 - val_loss: 1.4218 - val_acc: 0.4926\n",
      "Epoch 4/100\n",
      "50000/50000 [==============================] - 24s 481us/step - loss: 1.2535 - acc: 0.5562 - val_loss: 1.3994 - val_acc: 0.5087\n",
      "Epoch 5/100\n",
      "50000/50000 [==============================] - 24s 478us/step - loss: 1.1740 - acc: 0.5839 - val_loss: 1.3574 - val_acc: 0.5292\n",
      "Epoch 6/100\n",
      "50000/50000 [==============================] - 24s 472us/step - loss: 1.1015 - acc: 0.6110 - val_loss: 1.3467 - val_acc: 0.5345\n",
      "Epoch 7/100\n",
      "50000/50000 [==============================] - 24s 477us/step - loss: 1.0169 - acc: 0.6384 - val_loss: 1.3675 - val_acc: 0.5392\n",
      "Epoch 8/100\n",
      "50000/50000 [==============================] - 23s 469us/step - loss: 0.9534 - acc: 0.6649 - val_loss: 1.4236 - val_acc: 0.5308\n",
      "Epoch 9/100\n",
      "50000/50000 [==============================] - 24s 479us/step - loss: 0.8814 - acc: 0.6870 - val_loss: 1.4315 - val_acc: 0.5347\n",
      "Epoch 10/100\n",
      "50000/50000 [==============================] - 25s 500us/step - loss: 0.8169 - acc: 0.7102 - val_loss: 1.4666 - val_acc: 0.5362\n",
      "Epoch 11/100\n",
      "50000/50000 [==============================] - 25s 491us/step - loss: 0.7575 - acc: 0.7294 - val_loss: 1.4755 - val_acc: 0.5385\n",
      "Epoch 12/100\n",
      "50000/50000 [==============================] - 24s 472us/step - loss: 0.6931 - acc: 0.7530 - val_loss: 1.5570 - val_acc: 0.5335\n",
      "Epoch 13/100\n",
      "50000/50000 [==============================] - 25s 491us/step - loss: 0.6425 - acc: 0.7714 - val_loss: 1.6105 - val_acc: 0.5345\n",
      "Epoch 14/100\n",
      "50000/50000 [==============================] - 25s 497us/step - loss: 0.5789 - acc: 0.7944 - val_loss: 1.7595 - val_acc: 0.5317\n",
      "Epoch 15/100\n",
      "50000/50000 [==============================] - 23s 463us/step - loss: 0.5419 - acc: 0.8075 - val_loss: 1.7484 - val_acc: 0.5339\n",
      "Epoch 16/100\n",
      "50000/50000 [==============================] - 25s 495us/step - loss: 0.4981 - acc: 0.8218 - val_loss: 1.9614 - val_acc: 0.5304\n",
      "Epoch 17/100\n",
      "50000/50000 [==============================] - 25s 507us/step - loss: 0.4600 - acc: 0.8356 - val_loss: 2.0295 - val_acc: 0.5253\n",
      "Epoch 18/100\n",
      "50000/50000 [==============================] - 25s 492us/step - loss: 0.4198 - acc: 0.8516 - val_loss: 2.0978 - val_acc: 0.5354\n",
      "Epoch 19/100\n",
      "50000/50000 [==============================] - 24s 489us/step - loss: 0.3972 - acc: 0.8593 - val_loss: 2.1580 - val_acc: 0.5334\n",
      "Epoch 20/100\n",
      "50000/50000 [==============================] - 24s 479us/step - loss: 0.3533 - acc: 0.8765 - val_loss: 2.2372 - val_acc: 0.5300\n",
      "Epoch 21/100\n",
      "50000/50000 [==============================] - 26s 512us/step - loss: 0.3310 - acc: 0.8835 - val_loss: 2.3464 - val_acc: 0.5292\n",
      "Epoch 22/100\n",
      "50000/50000 [==============================] - 25s 505us/step - loss: 0.3123 - acc: 0.8908 - val_loss: 2.4491 - val_acc: 0.5206\n",
      "Epoch 23/100\n",
      "50000/50000 [==============================] - 25s 499us/step - loss: 0.3042 - acc: 0.8930 - val_loss: 2.4364 - val_acc: 0.5254\n",
      "Epoch 24/100\n",
      "50000/50000 [==============================] - 25s 496us/step - loss: 0.2764 - acc: 0.9031 - val_loss: 2.5012 - val_acc: 0.5281\n",
      "Epoch 25/100\n",
      "50000/50000 [==============================] - 25s 502us/step - loss: 0.2500 - acc: 0.9119 - val_loss: 2.6666 - val_acc: 0.5287\n",
      "Epoch 26/100\n",
      "50000/50000 [==============================] - 24s 490us/step - loss: 0.2446 - acc: 0.9157 - val_loss: 2.6703 - val_acc: 0.5317\n",
      "Epoch 27/100\n",
      "50000/50000 [==============================] - 25s 504us/step - loss: 0.2312 - acc: 0.9197 - val_loss: 2.8908 - val_acc: 0.5185\n",
      "Epoch 28/100\n",
      "50000/50000 [==============================] - 25s 501us/step - loss: 0.2339 - acc: 0.9193 - val_loss: 2.8237 - val_acc: 0.5223\n",
      "Epoch 29/100\n",
      "50000/50000 [==============================] - 26s 516us/step - loss: 0.2076 - acc: 0.9283 - val_loss: 2.9230 - val_acc: 0.5368\n",
      "Epoch 30/100\n",
      "50000/50000 [==============================] - 26s 512us/step - loss: 0.2065 - acc: 0.9287 - val_loss: 2.9136 - val_acc: 0.5235\n",
      "Epoch 31/100\n",
      "50000/50000 [==============================] - 24s 477us/step - loss: 0.1923 - acc: 0.9339 - val_loss: 2.9898 - val_acc: 0.5291\n",
      "Epoch 32/100\n",
      "50000/50000 [==============================] - 24s 470us/step - loss: 0.1875 - acc: 0.9351 - val_loss: 2.9989 - val_acc: 0.5285\n",
      "Epoch 33/100\n",
      "50000/50000 [==============================] - 23s 462us/step - loss: 0.1891 - acc: 0.9355 - val_loss: 3.0066 - val_acc: 0.5274\n",
      "Epoch 34/100\n",
      "50000/50000 [==============================] - 23s 463us/step - loss: 0.1739 - acc: 0.9397 - val_loss: 3.0048 - val_acc: 0.5244\n",
      "Epoch 35/100\n",
      "50000/50000 [==============================] - 23s 451us/step - loss: 0.1604 - acc: 0.9453 - val_loss: 3.2015 - val_acc: 0.5307\n",
      "Epoch 36/100\n",
      "50000/50000 [==============================] - 25s 494us/step - loss: 0.1843 - acc: 0.9373 - val_loss: 3.2227 - val_acc: 0.5265\n",
      "Epoch 37/100\n",
      "50000/50000 [==============================] - 24s 483us/step - loss: 0.1723 - acc: 0.9405 - val_loss: 3.1813 - val_acc: 0.5249\n",
      "Epoch 38/100\n",
      "50000/50000 [==============================] - 24s 490us/step - loss: 0.1524 - acc: 0.9474 - val_loss: 3.2905 - val_acc: 0.5299\n",
      "Epoch 39/100\n",
      "50000/50000 [==============================] - 23s 465us/step - loss: 0.1588 - acc: 0.9465 - val_loss: 3.2136 - val_acc: 0.5277\n",
      "Epoch 40/100\n",
      "50000/50000 [==============================] - 24s 473us/step - loss: 0.1568 - acc: 0.9465 - val_loss: 3.2644 - val_acc: 0.5322\n",
      "Epoch 41/100\n",
      "50000/50000 [==============================] - 30s 594us/step - loss: 0.1497 - acc: 0.9487 - val_loss: 3.3531 - val_acc: 0.5313\n",
      "Epoch 42/100\n",
      "50000/50000 [==============================] - 31s 628us/step - loss: 0.1391 - acc: 0.9530 - val_loss: 3.3878 - val_acc: 0.5254\n",
      "Epoch 43/100\n",
      "50000/50000 [==============================] - 32s 636us/step - loss: 0.1487 - acc: 0.9502 - val_loss: 3.3676 - val_acc: 0.5280\n",
      "Epoch 44/100\n",
      "50000/50000 [==============================] - 32s 649us/step - loss: 0.1351 - acc: 0.9541 - val_loss: 3.4169 - val_acc: 0.5323\n",
      "Epoch 45/100\n",
      "50000/50000 [==============================] - 34s 673us/step - loss: 0.1355 - acc: 0.9545 - val_loss: 3.3742 - val_acc: 0.5328\n",
      "Epoch 46/100\n",
      "50000/50000 [==============================] - 34s 675us/step - loss: 0.1236 - acc: 0.9584 - val_loss: 3.3949 - val_acc: 0.5224\n",
      "Epoch 47/100\n",
      "50000/50000 [==============================] - 35s 698us/step - loss: 0.1382 - acc: 0.9541 - val_loss: 3.3826 - val_acc: 0.5249\n",
      "Epoch 48/100\n",
      "50000/50000 [==============================] - 35s 709us/step - loss: 0.1189 - acc: 0.9595 - val_loss: 3.4254 - val_acc: 0.5278\n",
      "Epoch 49/100\n",
      "50000/50000 [==============================] - 33s 670us/step - loss: 0.1252 - acc: 0.9587 - val_loss: 3.4924 - val_acc: 0.5262\n",
      "Epoch 50/100\n",
      "50000/50000 [==============================] - 35s 701us/step - loss: 0.1255 - acc: 0.9577 - val_loss: 3.4470 - val_acc: 0.5300\n",
      "Epoch 51/100\n",
      "50000/50000 [==============================] - 35s 691us/step - loss: 0.1014 - acc: 0.9666 - val_loss: 3.5713 - val_acc: 0.5269\n",
      "Epoch 52/100\n",
      "50000/50000 [==============================] - 32s 643us/step - loss: 0.1204 - acc: 0.9603 - val_loss: 3.4720 - val_acc: 0.5285\n",
      "Epoch 53/100\n",
      "50000/50000 [==============================] - 33s 657us/step - loss: 0.1093 - acc: 0.9626 - val_loss: 3.6138 - val_acc: 0.5305\n",
      "Epoch 54/100\n",
      "50000/50000 [==============================] - 32s 646us/step - loss: 0.1330 - acc: 0.9564 - val_loss: 3.5757 - val_acc: 0.5357\n",
      "Epoch 55/100\n",
      "50000/50000 [==============================] - 33s 658us/step - loss: 0.1248 - acc: 0.9590 - val_loss: 3.4437 - val_acc: 0.5318\n",
      "Epoch 56/100\n",
      "50000/50000 [==============================] - 32s 644us/step - loss: 0.0999 - acc: 0.9672 - val_loss: 3.5042 - val_acc: 0.5289\n",
      "Epoch 57/100\n",
      "50000/50000 [==============================] - 32s 644us/step - loss: 0.1127 - acc: 0.9628 - val_loss: 3.5613 - val_acc: 0.5264\n",
      "Epoch 58/100\n",
      "50000/50000 [==============================] - 32s 632us/step - loss: 0.1029 - acc: 0.9668 - val_loss: 3.5019 - val_acc: 0.5291\n"
     ]
    },
    {
     "name": "stdout",
     "output_type": "stream",
     "text": [
      "Epoch 59/100\n",
      "50000/50000 [==============================] - 31s 623us/step - loss: 0.1022 - acc: 0.9662 - val_loss: 3.5966 - val_acc: 0.5276\n",
      "Epoch 60/100\n",
      "50000/50000 [==============================] - 31s 627us/step - loss: 0.1070 - acc: 0.9647 - val_loss: 3.5135 - val_acc: 0.5300\n",
      "Epoch 61/100\n",
      "50000/50000 [==============================] - 35s 693us/step - loss: 0.0803 - acc: 0.9739 - val_loss: 3.7208 - val_acc: 0.5279\n",
      "Epoch 62/100\n",
      "50000/50000 [==============================] - 33s 668us/step - loss: 0.1204 - acc: 0.9608 - val_loss: 3.4993 - val_acc: 0.5378\n",
      "Epoch 63/100\n",
      "50000/50000 [==============================] - 33s 659us/step - loss: 0.1003 - acc: 0.9672 - val_loss: 3.5630 - val_acc: 0.5347\n",
      "Epoch 64/100\n",
      "50000/50000 [==============================] - 34s 684us/step - loss: 0.1085 - acc: 0.9644 - val_loss: 3.6200 - val_acc: 0.5344\n",
      "Epoch 65/100\n",
      "50000/50000 [==============================] - 33s 656us/step - loss: 0.1057 - acc: 0.9653 - val_loss: 3.6450 - val_acc: 0.5228\n",
      "Epoch 66/100\n",
      "50000/50000 [==============================] - 35s 692us/step - loss: 0.0865 - acc: 0.9715 - val_loss: 3.7118 - val_acc: 0.5330\n",
      "Epoch 67/100\n",
      "50000/50000 [==============================] - 32s 630us/step - loss: 0.0931 - acc: 0.9702 - val_loss: 3.5962 - val_acc: 0.5253\n",
      "Epoch 68/100\n",
      "50000/50000 [==============================] - 32s 639us/step - loss: 0.0949 - acc: 0.9689 - val_loss: 3.6215 - val_acc: 0.5325\n",
      "Epoch 69/100\n",
      "50000/50000 [==============================] - 33s 653us/step - loss: 0.0952 - acc: 0.9689 - val_loss: 3.6402 - val_acc: 0.5318\n",
      "Epoch 70/100\n",
      "50000/50000 [==============================] - 33s 666us/step - loss: 0.0855 - acc: 0.9723 - val_loss: 3.7602 - val_acc: 0.5391\n",
      "Epoch 71/100\n",
      "50000/50000 [==============================] - 32s 631us/step - loss: 0.0960 - acc: 0.9679 - val_loss: 3.7281 - val_acc: 0.5330\n",
      "Epoch 72/100\n",
      "50000/50000 [==============================] - 32s 645us/step - loss: 0.0938 - acc: 0.9694 - val_loss: 3.8060 - val_acc: 0.5262\n",
      "Epoch 73/100\n",
      "50000/50000 [==============================] - 32s 633us/step - loss: 0.0771 - acc: 0.9743 - val_loss: 3.7634 - val_acc: 0.5312\n",
      "Epoch 74/100\n",
      "50000/50000 [==============================] - 31s 612us/step - loss: 0.0865 - acc: 0.9710 - val_loss: 3.7545 - val_acc: 0.5257\n",
      "Epoch 75/100\n",
      "50000/50000 [==============================] - 39s 777us/step - loss: 0.0874 - acc: 0.9712 - val_loss: 3.8593 - val_acc: 0.5302\n",
      "Epoch 76/100\n",
      "50000/50000 [==============================] - 39s 771us/step - loss: 0.0853 - acc: 0.9729 - val_loss: 3.7743 - val_acc: 0.5313\n",
      "Epoch 77/100\n",
      "50000/50000 [==============================] - 40s 791us/step - loss: 0.0727 - acc: 0.9757 - val_loss: 3.8864 - val_acc: 0.5306\n",
      "Epoch 78/100\n",
      "50000/50000 [==============================] - 37s 733us/step - loss: 0.0751 - acc: 0.9748 - val_loss: 3.7592 - val_acc: 0.5337\n",
      "Epoch 79/100\n",
      "50000/50000 [==============================] - 39s 773us/step - loss: 0.0925 - acc: 0.9700 - val_loss: 3.7394 - val_acc: 0.5348\n",
      "Epoch 80/100\n",
      "50000/50000 [==============================] - 38s 758us/step - loss: 0.0835 - acc: 0.9730 - val_loss: 3.6890 - val_acc: 0.5233\n",
      "Epoch 81/100\n",
      "50000/50000 [==============================] - 38s 767us/step - loss: 0.0882 - acc: 0.9712 - val_loss: 3.7784 - val_acc: 0.5311\n",
      "Epoch 82/100\n",
      "50000/50000 [==============================] - 38s 761us/step - loss: 0.0754 - acc: 0.9754 - val_loss: 3.8559 - val_acc: 0.5271\n",
      "Epoch 83/100\n",
      "50000/50000 [==============================] - 38s 761us/step - loss: 0.0845 - acc: 0.9723 - val_loss: 3.7041 - val_acc: 0.5299\n",
      "Epoch 84/100\n",
      "50000/50000 [==============================] - 37s 746us/step - loss: 0.0736 - acc: 0.9760 - val_loss: 3.8488 - val_acc: 0.5335\n",
      "Epoch 85/100\n",
      "50000/50000 [==============================] - 40s 793us/step - loss: 0.0811 - acc: 0.9726 - val_loss: 3.8088 - val_acc: 0.5303\n",
      "Epoch 86/100\n",
      "50000/50000 [==============================] - 34s 677us/step - loss: 0.0665 - acc: 0.9786 - val_loss: 3.9310 - val_acc: 0.5344\n",
      "Epoch 87/100\n",
      "50000/50000 [==============================] - 32s 647us/step - loss: 0.0842 - acc: 0.9729 - val_loss: 3.7568 - val_acc: 0.5346\n",
      "Epoch 88/100\n",
      "50000/50000 [==============================] - 33s 663us/step - loss: 0.0717 - acc: 0.9765 - val_loss: 3.8115 - val_acc: 0.5341\n",
      "Epoch 89/100\n",
      "50000/50000 [==============================] - 33s 651us/step - loss: 0.0683 - acc: 0.9787 - val_loss: 3.7612 - val_acc: 0.5322\n",
      "Epoch 90/100\n",
      "50000/50000 [==============================] - 31s 618us/step - loss: 0.0754 - acc: 0.9761 - val_loss: 3.7091 - val_acc: 0.5266\n",
      "Epoch 91/100\n",
      "50000/50000 [==============================] - 31s 617us/step - loss: 0.0791 - acc: 0.9752 - val_loss: 3.7425 - val_acc: 0.5338\n",
      "Epoch 92/100\n",
      "50000/50000 [==============================] - 31s 621us/step - loss: 0.0687 - acc: 0.9780 - val_loss: 3.8969 - val_acc: 0.5339\n",
      "Epoch 93/100\n",
      "50000/50000 [==============================] - 24s 489us/step - loss: 0.0730 - acc: 0.9760 - val_loss: 3.9121 - val_acc: 0.5265\n",
      "Epoch 94/100\n",
      "50000/50000 [==============================] - 24s 472us/step - loss: 0.0904 - acc: 0.9710 - val_loss: 3.6545 - val_acc: 0.5285\n",
      "Epoch 95/100\n",
      "50000/50000 [==============================] - 24s 477us/step - loss: 0.0640 - acc: 0.9792 - val_loss: 3.9260 - val_acc: 0.5263\n",
      "Epoch 96/100\n",
      "50000/50000 [==============================] - 24s 472us/step - loss: 0.0829 - acc: 0.9736 - val_loss: 3.8192 - val_acc: 0.5295\n",
      "Epoch 97/100\n",
      "50000/50000 [==============================] - 24s 478us/step - loss: 0.0582 - acc: 0.9813 - val_loss: 3.8898 - val_acc: 0.5291\n",
      "Epoch 98/100\n",
      "50000/50000 [==============================] - 24s 476us/step - loss: 0.0637 - acc: 0.9795 - val_loss: 3.8694 - val_acc: 0.5241\n",
      "Epoch 99/100\n",
      "50000/50000 [==============================] - 24s 488us/step - loss: 0.0689 - acc: 0.9777 - val_loss: 3.9001 - val_acc: 0.5319\n",
      "Epoch 100/100\n",
      "50000/50000 [==============================] - 24s 484us/step - loss: 0.0796 - acc: 0.9740 - val_loss: 3.8188 - val_acc: 0.5273\n"
     ]
    },
    {
     "data": {
      "text/plain": [
       "<keras.callbacks.History at 0x2fb3abef3c8>"
      ]
     },
     "execution_count": 11,
     "metadata": {},
     "output_type": "execute_result"
    }
   ],
   "source": [
    "model.fit(x_train, y_train, \n",
    "          epochs=EPOCHS, \n",
    "          batch_size=BATCH_SIZE, \n",
    "          validation_data=(x_test, y_test), \n",
    "          shuffle=True)"
   ]
  },
  {
   "cell_type": "code",
   "execution_count": 13,
   "metadata": {},
   "outputs": [
    {
     "data": {
      "image/png": "[encoded data removed]",
      "text/plain": [
       "<Figure size 432x288 with 1 Axes>"
      ]
     },
     "metadata": {},
     "output_type": "display_data"
    },
    {
     "data": {
      "image/png": "[encoded data removed]",
      "text/plain": [
       "<Figure size 432x288 with 1 Axes>"
      ]
     },
     "metadata": {},
     "output_type": "display_data"
    }
   ],
   "source": [
    "import matplotlib.pyplot as plt\n",
    "\n",
    "\n",
    "train_loss = model.history.history[\"loss\"]\n",
    "valid_loss = model.history.history[\"val_loss\"]\n",
    "\n",
    "train_acc = model.history.history[\"acc\"]\n",
    "valid_acc = model.history.history[\"val_acc\"]\n",
    "\n",
    "plt.plot(range(len(train_loss)), train_loss, label=\"train loss\")\n",
    "plt.plot(range(len(valid_loss)), valid_loss, label=\"valid loss\")\n",
    "plt.legend()\n",
    "plt.title(\"Loss\")\n",
    "plt.show()\n",
    "\n",
    "plt.plot(range(len(train_acc)), train_acc, label=\"train accuracy\")\n",
    "plt.plot(range(len(valid_acc)), valid_acc, label=\"valid accuracy\")\n",
    "plt.legend()\n",
    "plt.title(\"Accuracy\")\n",
    "plt.show()"
   ]
  }
 ],
 "metadata": {
  "kernelspec": {
   "display_name": "Python 3",
   "language": "python",
   "name": "python3"
  },
  "language_info": {
   "codemirror_mode": {
    "name": "ipython",
    "version": 3
   },
   "file_extension": ".py",
   "mimetype": "text/x-python",
   "name": "python",
   "nbconvert_exporter": "python",
   "pygments_lexer": "ipython3",
   "version": "3.6.4"
  }
 },
 "nbformat": 4,
 "nbformat_minor": 2
}
