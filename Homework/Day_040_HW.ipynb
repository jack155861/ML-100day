{
 "cells": [
  {
   "cell_type": "markdown",
   "metadata": {},
   "source": [
    "## 練習時間\n",
    "試著使用 sklearn datasets 的其他資料集 (boston, ...)，來訓練自己的線性迴歸模型，並加上適當的正則話來觀察訓練情形。"
   ]
  },
  {
   "cell_type": "code",
   "execution_count": 15,
   "metadata": {},
   "outputs": [],
   "source": [
    "import numpy as np\n",
    "import matplotlib.pyplot as plt\n",
    "from sklearn import datasets, linear_model\n",
    "from sklearn.model_selection import train_test_split\n",
    "from sklearn.metrics import mean_squared_error, r2_score"
   ]
  },
  {
   "cell_type": "code",
   "execution_count": 16,
   "metadata": {},
   "outputs": [],
   "source": [
    "def model_fn(model,a):\n",
    "    # 讀取boston資料集\n",
    "    diabetes = datasets.load_boston()\n",
    "    # 切分訓練集/測試集\n",
    "    x_train, x_test, y_train, y_test = train_test_split(diabetes.data, diabetes.target, test_size=0.2, random_state=4)\n",
    "    # 建立一個線性回歸模型\n",
    "    if model==\"Linear\":\n",
    "        regr = linear_model.LinearRegression()\n",
    "    if model==\"Lasso\":\n",
    "        regr = linear_model.Lasso(alpha=a)\n",
    "    if model==\"Ridge\":\n",
    "        regr = linear_model.Ridge(alpha=a)    \n",
    "    # 將訓練資料丟進去模型訓練\n",
    "    regr.fit(x_train, y_train)\n",
    "    # 將測試資料丟進模型得到預測結果\n",
    "    y_pred = regr.predict(x_test)\n",
    "    print(regr.coef_)\n",
    "    print(\"Mean squared error: %.2f\"% mean_squared_error(y_test, y_pred))"
   ]
  },
  {
   "cell_type": "code",
   "execution_count": 18,
   "metadata": {},
   "outputs": [
    {
     "name": "stdout",
     "output_type": "stream",
     "text": [
      "[-1.14743504e-01  4.70875035e-02  8.70282354e-03  3.23818824e+00\n",
      " -1.67240567e+01  3.87662996e+00 -1.08218769e-02 -1.54144627e+00\n",
      "  2.92604151e-01 -1.33989537e-02 -9.07306805e-01  8.91271054e-03\n",
      " -4.58747039e-01]\n",
      "Mean squared error: 25.41\n"
     ]
    }
   ],
   "source": [
    "model_fn(\"Linear\",1)"
   ]
  },
  {
   "cell_type": "code",
   "execution_count": 20,
   "metadata": {},
   "outputs": [
    {
     "name": "stdout",
     "output_type": "stream",
     "text": [
      "[-0.10460997  0.04881541 -0.04507749  1.15331258 -0.          3.81707075\n",
      " -0.02085665 -1.23526694  0.25920388 -0.01516558 -0.74728244  0.00973548\n",
      " -0.4998582 ]\n",
      "Mean squared error: 26.44\n"
     ]
    }
   ],
   "source": [
    "model_fn(\"Lasso\",0.1)"
   ]
  },
  {
   "cell_type": "code",
   "execution_count": 21,
   "metadata": {},
   "outputs": [
    {
     "name": "stdout",
     "output_type": "stream",
     "text": [
      "[-0.08764892  0.04826558 -0.01084097  0.         -0.          2.6557073\n",
      " -0.00304648 -0.98409614  0.2561194  -0.01593011 -0.73302892  0.00892585\n",
      " -0.59291607]\n",
      "Mean squared error: 26.94\n"
     ]
    }
   ],
   "source": [
    "model_fn(\"Lasso\",0.5)"
   ]
  },
  {
   "cell_type": "code",
   "execution_count": 22,
   "metadata": {},
   "outputs": [
    {
     "name": "stdout",
     "output_type": "stream",
     "text": [
      "[-0.06479441  0.04581271 -0.          0.         -0.          1.17737271\n",
      "  0.011112   -0.73717556  0.23337442 -0.01550582 -0.69307422  0.00769147\n",
      " -0.69322155]\n",
      "Mean squared error: 28.95\n"
     ]
    }
   ],
   "source": [
    "model_fn(\"Lasso\",1)"
   ]
  },
  {
   "cell_type": "code",
   "execution_count": 23,
   "metadata": {},
   "outputs": [
    {
     "name": "stdout",
     "output_type": "stream",
     "text": [
      "[-1.14125970e-01  4.72144095e-02  3.30466957e-03  3.20052271e+00\n",
      " -1.55057123e+01  3.88649056e+00 -1.19216295e-02 -1.52356227e+00\n",
      "  2.89503886e-01 -1.34748440e-02 -8.94652812e-01  8.97004994e-03\n",
      " -4.60013401e-01]\n",
      "Mean squared error: 25.44\n"
     ]
    }
   ],
   "source": [
    "model_fn(\"Ridge\",0.1)"
   ]
  },
  {
   "cell_type": "code",
   "execution_count": 24,
   "metadata": {},
   "outputs": [
    {
     "name": "stdout",
     "output_type": "stream",
     "text": [
      "[-1.12373330e-01  4.75957945e-02 -1.21313757e-02  3.07927664e+00\n",
      " -1.20045946e+01  3.91127736e+00 -1.50397455e-02 -1.47214216e+00\n",
      "  2.80775871e-01 -1.37010750e-02 -8.58607146e-01  9.13459022e-03\n",
      " -4.63973871e-01]\n",
      "Mean squared error: 25.59\n"
     ]
    }
   ],
   "source": [
    "model_fn(\"Ridge\",0.5)"
   ]
  },
  {
   "cell_type": "code",
   "execution_count": 26,
   "metadata": {
    "scrolled": true
   },
   "outputs": [
    {
     "name": "stdout",
     "output_type": "stream",
     "text": [
      "[-1.11085562e-01  4.79127892e-02 -2.36686153e-02  2.96582333e+00\n",
      " -9.35915972e+00  3.92379527e+00 -1.73228057e-02 -1.43323726e+00\n",
      "  2.74489395e-01 -1.38858412e-02 -8.31911824e-01  9.25837299e-03\n",
      " -4.67523596e-01]\n",
      "Mean squared error: 25.73\n"
     ]
    }
   ],
   "source": [
    "model_fn(\"Ridge\",1)"
   ]
  },
  {
   "cell_type": "code",
   "execution_count": null,
   "metadata": {},
   "outputs": [],
   "source": [
    "原來的模型事最好的"
   ]
  }
 ],
 "metadata": {
  "kernelspec": {
   "display_name": "Python 3",
   "language": "python",
   "name": "python3"
  },
  "language_info": {
   "codemirror_mode": {
    "name": "ipython",
    "version": 3
   },
   "file_extension": ".py",
   "mimetype": "text/x-python",
   "name": "python",
   "nbconvert_exporter": "python",
   "pygments_lexer": "ipython3",
   "version": "3.6.4"
  }
 },
 "nbformat": 4,
 "nbformat_minor": 2
}
