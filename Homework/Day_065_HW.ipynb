{
 "cells": [
  {
   "cell_type": "markdown",
   "metadata": {},
   "source": [
    "# 作業:\n",
    "嘗試調整參數:  \n",
    "sg:sg=1表示採用skip-gram,sg=0 表示採用cbow  \n",
    "window:能往左往右看幾個字的意思 "
   ]
  },
  {
   "cell_type": "code",
   "execution_count": 1,
   "metadata": {},
   "outputs": [],
   "source": [
    "import gensim, logging\n",
    "from gensim.models import word2vec"
   ]
  },
  {
   "cell_type": "code",
   "execution_count": 24,
   "metadata": {
    "collapsed": true
   },
   "outputs": [
    {
     "name": "stderr",
     "output_type": "stream",
     "text": [
      "2019-03-25 13:17:04,604 : INFO : collecting all words and their counts\n",
      "2019-03-25 13:17:04,605 : INFO : PROGRESS: at sentence #0, processed 0 words, keeping 0 word types\n",
      "2019-03-25 13:17:04,606 : INFO : collected 3 word types from a corpus of 4 raw words and 2 sentences\n",
      "2019-03-25 13:17:04,606 : INFO : Loading a fresh vocabulary\n",
      "2019-03-25 13:17:04,607 : INFO : effective_min_count=1 retains 3 unique words (100% of original 3, drops 0)\n",
      "2019-03-25 13:17:04,607 : INFO : effective_min_count=1 leaves 4 word corpus (100% of original 4, drops 0)\n",
      "2019-03-25 13:17:04,608 : INFO : deleting the raw counts dictionary of 3 items\n",
      "2019-03-25 13:17:04,608 : INFO : sample=0.001 downsamples 3 most-common words\n",
      "2019-03-25 13:17:04,609 : INFO : downsampling leaves estimated 0 word corpus (5.7% of prior 4)\n",
      "2019-03-25 13:17:04,609 : INFO : estimated required memory for 3 words and 256 dimensions: 7644 bytes\n",
      "2019-03-25 13:17:04,610 : INFO : resetting layer weights\n",
      "2019-03-25 13:17:04,611 : INFO : training model with 4 workers on 3 vocabulary and 256 features, using sg=1 hs=0 sample=0.001 negative=5 window=2\n",
      "2019-03-25 13:17:04,622 : INFO : worker thread finished; awaiting finish of 3 more threads\n",
      "2019-03-25 13:17:04,623 : INFO : worker thread finished; awaiting finish of 2 more threads\n",
      "2019-03-25 13:17:04,623 : INFO : worker thread finished; awaiting finish of 1 more threads\n",
      "2019-03-25 13:17:04,624 : INFO : worker thread finished; awaiting finish of 0 more threads\n",
      "2019-03-25 13:17:04,624 : INFO : EPOCH - 1 : training on 4 raw words (0 effective words) took 0.0s, 0 effective words/s\n",
      "2019-03-25 13:17:04,629 : INFO : worker thread finished; awaiting finish of 3 more threads\n",
      "2019-03-25 13:17:04,630 : INFO : worker thread finished; awaiting finish of 2 more threads\n",
      "2019-03-25 13:17:04,630 : INFO : worker thread finished; awaiting finish of 1 more threads\n",
      "2019-03-25 13:17:04,631 : INFO : worker thread finished; awaiting finish of 0 more threads\n",
      "2019-03-25 13:17:04,631 : INFO : EPOCH - 2 : training on 4 raw words (0 effective words) took 0.0s, 0 effective words/s\n",
      "2019-03-25 13:17:04,635 : INFO : worker thread finished; awaiting finish of 3 more threads\n",
      "2019-03-25 13:17:04,636 : INFO : worker thread finished; awaiting finish of 2 more threads\n",
      "2019-03-25 13:17:04,636 : INFO : worker thread finished; awaiting finish of 1 more threads\n",
      "2019-03-25 13:17:04,637 : INFO : worker thread finished; awaiting finish of 0 more threads\n",
      "2019-03-25 13:17:04,637 : INFO : EPOCH - 3 : training on 4 raw words (1 effective words) took 0.0s, 414 effective words/s\n",
      "2019-03-25 13:17:04,642 : INFO : worker thread finished; awaiting finish of 3 more threads\n",
      "2019-03-25 13:17:04,642 : INFO : worker thread finished; awaiting finish of 2 more threads\n",
      "2019-03-25 13:17:04,643 : INFO : worker thread finished; awaiting finish of 1 more threads\n",
      "2019-03-25 13:17:04,643 : INFO : worker thread finished; awaiting finish of 0 more threads\n",
      "2019-03-25 13:17:04,644 : INFO : EPOCH - 4 : training on 4 raw words (0 effective words) took 0.0s, 0 effective words/s\n",
      "2019-03-25 13:17:04,649 : INFO : worker thread finished; awaiting finish of 3 more threads\n",
      "2019-03-25 13:17:04,650 : INFO : worker thread finished; awaiting finish of 2 more threads\n",
      "2019-03-25 13:17:04,650 : INFO : worker thread finished; awaiting finish of 1 more threads\n",
      "2019-03-25 13:17:04,651 : INFO : worker thread finished; awaiting finish of 0 more threads\n",
      "2019-03-25 13:17:04,651 : INFO : EPOCH - 5 : training on 4 raw words (0 effective words) took 0.0s, 0 effective words/s\n",
      "2019-03-25 13:17:04,652 : INFO : training on a 20 raw words (1 effective words) took 0.0s, 25 effective words/s\n",
      "2019-03-25 13:17:04,652 : WARNING : under 10 jobs per worker: consider setting a smaller `batch_words' for smoother alpha decay\n"
     ]
    }
   ],
   "source": [
    "logging.basicConfig(format='%(asctime)s : %(levelname)s : %(message)s', level=logging.INFO)  \n",
    "sentences = [['I am a hero', 'sentence'], ['She is a teacher', 'sentence']] \n",
    "model = word2vec.Word2Vec(sentences, size=256, min_count=1, window=2, workers=4, sg=1)  "
   ]
  },
  {
   "cell_type": "code",
   "execution_count": 26,
   "metadata": {},
   "outputs": [
    {
     "name": "stdout",
     "output_type": "stream",
     "text": [
      "Word2Vec(vocab=3, size=256, alpha=0.025)\n"
     ]
    },
    {
     "name": "stderr",
     "output_type": "stream",
     "text": [
      "C:\\Users\\K258\\AppData\\Local\\Continuum\\anaconda3\\lib\\site-packages\\ipykernel_launcher.py:2: DeprecationWarning: Call to deprecated `similarity` (Method will be removed in 4.0.0, use self.wv.similarity() instead).\n",
      "  \n"
     ]
    },
    {
     "data": {
      "text/plain": [
       "-0.05257319"
      ]
     },
     "execution_count": 26,
     "metadata": {},
     "output_type": "execute_result"
    }
   ],
   "source": [
    "print(model)\n",
    "model.similarity('I am a hero','She is a teacher')"
   ]
  },
  {
   "cell_type": "code",
   "execution_count": null,
   "metadata": {},
   "outputs": [],
   "source": []
  },
  {
   "cell_type": "code",
   "execution_count": null,
   "metadata": {},
   "outputs": [],
   "source": [
    "\n",
    "\n",
    "# train word2vec on the two sentences  \n",
    "\n",
    "# sg=0 表示COBW, sg=1 表示skip-gram"
   ]
  },
  {
   "cell_type": "code",
   "execution_count": null,
   "metadata": {
    "collapsed": true
   },
   "outputs": [],
   "source": []
  }
 ],
 "metadata": {
  "kernelspec": {
   "display_name": "Python 3",
   "language": "python",
   "name": "python3"
  },
  "language_info": {
   "codemirror_mode": {
    "name": "ipython",
    "version": 3
   },
   "file_extension": ".py",
   "mimetype": "text/x-python",
   "name": "python",
   "nbconvert_exporter": "python",
   "pygments_lexer": "ipython3",
   "version": "3.6.4"
  }
 },
 "nbformat": 4,
 "nbformat_minor": 2
}
