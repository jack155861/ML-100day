{
 "cells": [
  {
   "cell_type": "markdown",
   "metadata": {},
   "source": [
    "## 作業\n",
    "\n",
    "1. 試著調整 RandomForestClassifier(...) 中的參數，並觀察是否會改變結果？\n",
    "2. 改用其他資料集 (boston, wine)，並與回歸模型與決策樹的結果進行比較"
   ]
  },
  {
   "cell_type": "code",
   "execution_count": 9,
   "metadata": {},
   "outputs": [],
   "source": [
    "from sklearn import datasets, metrics, linear_model\n",
    "from sklearn.tree import DecisionTreeClassifier, DecisionTreeRegressor\n",
    "from sklearn.ensemble import RandomForestClassifier, RandomForestRegressor\n",
    "from sklearn.model_selection import train_test_split\n",
    "def tree_fn(data,DecisionTree):   \n",
    "    # 讀取資料集\n",
    "    tmp = data\n",
    "    # 切分訓練集/測試集\n",
    "    x_train, x_test, y_train, y_test = train_test_split(tmp.data, tmp.target, test_size=0.25, random_state=4)\n",
    "    # 建立模型\n",
    "    if DecisionTree == \"Classifier\":\n",
    "        clf_DT = DecisionTreeClassifier()\n",
    "        clf_RF = RandomForestClassifier()\n",
    "        clf_REG = linear_model.LogisticRegression()\n",
    "    else :\n",
    "        clf_DT = DecisionTreeRegressor()    \n",
    "        clf_RF = RandomForestRegressor()\n",
    "        clf_REG = linear_model.LinearRegression()\n",
    "    # 訓練模型\n",
    "    clf_DT.fit(x_train, y_train)\n",
    "    clf_RF.fit(x_train, y_train)\n",
    "    clf_REG.fit(x_train, y_train)\n",
    "    # 預測測試集\n",
    "    y_pred_DT = clf_DT.predict(x_test)\n",
    "    y_pred_RF = clf_RF.predict(x_test)\n",
    "    y_pred_REG = clf_REG.predict(x_test)\n",
    "    # MSE\n",
    "    mse_DT = metrics.mean_squared_error(y_test, y_pred_DT)\n",
    "    mse_RF = metrics.mean_squared_error(y_test, y_pred_RF)\n",
    "    mse_REG = metrics.mean_squared_error(y_test, y_pred_REG)\n",
    "    print(\"Decision Tree Mean squared error: \", mse_DT)   \n",
    "    print(\"Random Forest Mean squared error: \", mse_RF)\n",
    "    print(\"Regression Mean squared error: \", mse_REG)"
   ]
  },
  {
   "cell_type": "code",
   "execution_count": 25,
   "metadata": {},
   "outputs": [
    {
     "name": "stdout",
     "output_type": "stream",
     "text": [
      "Decision Tree Mean squared error:  0.02631578947368421\n",
      "Random Forest Mean squared error:  0.02631578947368421\n",
      "Regression Mean squared error:  0.07894736842105263\n"
     ]
    }
   ],
   "source": [
    "tree_fn(datasets.load_iris(),\"Classifier\")"
   ]
  },
  {
   "cell_type": "code",
   "execution_count": 21,
   "metadata": {},
   "outputs": [
    {
     "name": "stdout",
     "output_type": "stream",
     "text": [
      "Decision Tree Mean squared error:  0.2222222222222222\n",
      "Random Forest Mean squared error:  0.022222222222222223\n",
      "Regression Mean squared error:  0.06666666666666667\n"
     ]
    }
   ],
   "source": [
    "tree_fn(datasets.load_wine(),\"Classifier\")"
   ]
  },
  {
   "cell_type": "code",
   "execution_count": 17,
   "metadata": {},
   "outputs": [
    {
     "name": "stdout",
     "output_type": "stream",
     "text": [
      "Decision Tree Mean squared error:  27.181102362204726\n",
      "Random Forest Mean squared error:  16.85431259842519\n",
      "Regression Mean squared error:  26.947085144448792\n"
     ]
    }
   ],
   "source": [
    "tree_fn(datasets.load_boston(),\"Regression\")"
   ]
  }
 ],
 "metadata": {
  "kernelspec": {
   "display_name": "Python 3",
   "language": "python",
   "name": "python3"
  },
  "language_info": {
   "codemirror_mode": {
    "name": "ipython",
    "version": 3
   },
   "file_extension": ".py",
   "mimetype": "text/x-python",
   "name": "python",
   "nbconvert_exporter": "python",
   "pygments_lexer": "ipython3",
   "version": "3.6.4"
  }
 },
 "nbformat": 4,
 "nbformat_minor": 2
}
